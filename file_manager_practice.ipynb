{
 "cells": [
  {
   "cell_type": "markdown",
   "metadata": {},
   "source": [
    "# previous logging system"
   ]
  },
  {
   "cell_type": "markdown",
   "metadata": {},
   "source": [
    "[컴퓨터에서 시간을 표현하는 방법](http://blog.naver.com/PostView.nhn?blogId=dudwo567890&logNo=130164764324) 시간표현법  \n",
    "[fnmatch](https://docs.python.org/ko/3/library/fnmatch.html)  유닉스 파일명 패턴 일치  \n",
    "[datetime](https://devanix.tistory.com/306) 날짜시간 모듈  \n",
    "[time](https://devanix.tistory.com/297) 시간 모듈"
   ]
  },
  {
   "cell_type": "markdown",
   "metadata": {},
   "source": [
    "# 속도 *시간으로 누적마일 계산하기"
   ]
  },
  {
   "cell_type": "code",
   "execution_count": 1,
   "metadata": {},
   "outputs": [],
   "source": [
    "import numpy as np\n",
    "import pandas as pd"
   ]
  },
  {
   "cell_type": "code",
   "execution_count": 2,
   "metadata": {},
   "outputs": [],
   "source": [
    "speed_list = np.array([3,5,5,4,4,2])\n",
    "timestamp = np.array([1,2,4,6,7,8]) # /10e+8 # tosecs"
   ]
  },
  {
   "cell_type": "code",
   "execution_count": 3,
   "metadata": {},
   "outputs": [
    {
     "data": {
      "text/html": [
       "<div>\n",
       "<style scoped>\n",
       "    .dataframe tbody tr th:only-of-type {\n",
       "        vertical-align: middle;\n",
       "    }\n",
       "\n",
       "    .dataframe tbody tr th {\n",
       "        vertical-align: top;\n",
       "    }\n",
       "\n",
       "    .dataframe thead th {\n",
       "        text-align: right;\n",
       "    }\n",
       "</style>\n",
       "<table border=\"1\" class=\"dataframe\">\n",
       "  <thead>\n",
       "    <tr style=\"text-align: right;\">\n",
       "      <th></th>\n",
       "      <th>distance</th>\n",
       "    </tr>\n",
       "    <tr>\n",
       "      <th>timestamp</th>\n",
       "      <th></th>\n",
       "    </tr>\n",
       "  </thead>\n",
       "  <tbody>\n",
       "    <tr>\n",
       "      <th>1</th>\n",
       "      <td>0</td>\n",
       "    </tr>\n",
       "    <tr>\n",
       "      <th>2</th>\n",
       "      <td>5</td>\n",
       "    </tr>\n",
       "    <tr>\n",
       "      <th>4</th>\n",
       "      <td>15</td>\n",
       "    </tr>\n",
       "    <tr>\n",
       "      <th>6</th>\n",
       "      <td>23</td>\n",
       "    </tr>\n",
       "    <tr>\n",
       "      <th>7</th>\n",
       "      <td>27</td>\n",
       "    </tr>\n",
       "    <tr>\n",
       "      <th>8</th>\n",
       "      <td>29</td>\n",
       "    </tr>\n",
       "  </tbody>\n",
       "</table>\n",
       "</div>"
      ],
      "text/plain": [
       "           distance\n",
       "timestamp          \n",
       "1                 0\n",
       "2                 5\n",
       "4                15\n",
       "6                23\n",
       "7                27\n",
       "8                29"
      ]
     },
     "execution_count": 3,
     "metadata": {},
     "output_type": "execute_result"
    }
   ],
   "source": [
    "temp = np.array([timestamp[0]]) \n",
    "temp = np.append(temp, timestamp[:-1])\n",
    "distance_list = (speed_list * (timestamp - temp)).cumsum()\n",
    "distance_list\n",
    "df1 = pd.DataFrame(data={'distance': distance_list}, index = timestamp)\n",
    "df1.index.name = 'timestamp'\n",
    "df1"
   ]
  },
  {
   "cell_type": "markdown",
   "metadata": {},
   "source": [
    "# split dataframe based on automode"
   ]
  },
  {
   "cell_type": "code",
   "execution_count": 4,
   "metadata": {},
   "outputs": [
    {
     "data": {
      "text/html": [
       "<div>\n",
       "<style scoped>\n",
       "    .dataframe tbody tr th:only-of-type {\n",
       "        vertical-align: middle;\n",
       "    }\n",
       "\n",
       "    .dataframe tbody tr th {\n",
       "        vertical-align: top;\n",
       "    }\n",
       "\n",
       "    .dataframe thead th {\n",
       "        text-align: right;\n",
       "    }\n",
       "</style>\n",
       "<table border=\"1\" class=\"dataframe\">\n",
       "  <thead>\n",
       "    <tr style=\"text-align: right;\">\n",
       "      <th></th>\n",
       "      <th>automode</th>\n",
       "    </tr>\n",
       "    <tr>\n",
       "      <th>timestamp</th>\n",
       "      <th></th>\n",
       "    </tr>\n",
       "  </thead>\n",
       "  <tbody>\n",
       "    <tr>\n",
       "      <th>1</th>\n",
       "      <td>False</td>\n",
       "    </tr>\n",
       "    <tr>\n",
       "      <th>4</th>\n",
       "      <td>True</td>\n",
       "    </tr>\n",
       "    <tr>\n",
       "      <th>7</th>\n",
       "      <td>False</td>\n",
       "    </tr>\n",
       "  </tbody>\n",
       "</table>\n",
       "</div>"
      ],
      "text/plain": [
       "           automode\n",
       "timestamp          \n",
       "1             False\n",
       "4              True\n",
       "7             False"
      ]
     },
     "execution_count": 4,
     "metadata": {},
     "output_type": "execute_result"
    }
   ],
   "source": [
    "automode_list = np.array([False, True, False])\n",
    "timestamp = np.array([1,4,7])\n",
    "df2 = pd.DataFrame(data = {'automode': automode_list}, index = timestamp)\n",
    "df2.index.name = 'timestamp'\n",
    "df2"
   ]
  },
  {
   "cell_type": "code",
   "execution_count": 5,
   "metadata": {},
   "outputs": [
    {
     "data": {
      "text/html": [
       "<div>\n",
       "<style scoped>\n",
       "    .dataframe tbody tr th:only-of-type {\n",
       "        vertical-align: middle;\n",
       "    }\n",
       "\n",
       "    .dataframe tbody tr th {\n",
       "        vertical-align: top;\n",
       "    }\n",
       "\n",
       "    .dataframe thead th {\n",
       "        text-align: right;\n",
       "    }\n",
       "</style>\n",
       "<table border=\"1\" class=\"dataframe\">\n",
       "  <thead>\n",
       "    <tr style=\"text-align: right;\">\n",
       "      <th></th>\n",
       "      <th>distance</th>\n",
       "      <th>automode</th>\n",
       "    </tr>\n",
       "    <tr>\n",
       "      <th>timestamp</th>\n",
       "      <th></th>\n",
       "      <th></th>\n",
       "    </tr>\n",
       "  </thead>\n",
       "  <tbody>\n",
       "    <tr>\n",
       "      <th>1</th>\n",
       "      <td>0</td>\n",
       "      <td>False</td>\n",
       "    </tr>\n",
       "    <tr>\n",
       "      <th>2</th>\n",
       "      <td>5</td>\n",
       "      <td>NaN</td>\n",
       "    </tr>\n",
       "    <tr>\n",
       "      <th>4</th>\n",
       "      <td>15</td>\n",
       "      <td>True</td>\n",
       "    </tr>\n",
       "    <tr>\n",
       "      <th>6</th>\n",
       "      <td>23</td>\n",
       "      <td>NaN</td>\n",
       "    </tr>\n",
       "    <tr>\n",
       "      <th>7</th>\n",
       "      <td>27</td>\n",
       "      <td>False</td>\n",
       "    </tr>\n",
       "    <tr>\n",
       "      <th>8</th>\n",
       "      <td>29</td>\n",
       "      <td>NaN</td>\n",
       "    </tr>\n",
       "  </tbody>\n",
       "</table>\n",
       "</div>"
      ],
      "text/plain": [
       "           distance automode\n",
       "timestamp                   \n",
       "1                 0    False\n",
       "2                 5      NaN\n",
       "4                15     True\n",
       "6                23      NaN\n",
       "7                27    False\n",
       "8                29      NaN"
      ]
     },
     "execution_count": 5,
     "metadata": {},
     "output_type": "execute_result"
    }
   ],
   "source": [
    "df3 = pd.merge(df1,df2, left_index= True, right_index=True, how='outer')\n",
    "df3"
   ]
  },
  {
   "cell_type": "code",
   "execution_count": 6,
   "metadata": {},
   "outputs": [
    {
     "data": {
      "text/plain": [
       "[           distance automode\n",
       " timestamp                   \n",
       " 1                 0    False\n",
       " 2                 5      NaN,            distance automode\n",
       " timestamp                   \n",
       " 4                15     True\n",
       " 6                23      NaN,            distance automode\n",
       " timestamp                   \n",
       " 7                27    False\n",
       " 8                29      NaN]"
      ]
     },
     "execution_count": 6,
     "metadata": {},
     "output_type": "execute_result"
    }
   ],
   "source": [
    "df_sp = pd.DataFrame(data={'automode': df3.automode.values}, index = range(len(df3)))\n",
    "sp = np.append(df_sp.dropna().index.values,len(df_sp)+1)\n",
    "auto = []\n",
    "for i in range(len(sp)-1):\n",
    "    auto.append(df3[sp[i]:sp[i+1]])\n",
    "auto"
   ]
  },
  {
   "cell_type": "markdown",
   "metadata": {},
   "source": [
    "# datetime 사용법익히기"
   ]
  },
  {
   "cell_type": "code",
   "execution_count": 1,
   "metadata": {},
   "outputs": [],
   "source": [
    "import datetime\n",
    "import time"
   ]
  },
  {
   "cell_type": "code",
   "execution_count": 3,
   "metadata": {},
   "outputs": [
    {
     "data": {
      "text/plain": [
       "4"
      ]
     },
     "execution_count": 3,
     "metadata": {},
     "output_type": "execute_result"
    }
   ],
   "source": [
    "# date object 반환하는 동일한 방법\n",
    "datetime.date(2019,7,26) # 날짜를 직접 넣음\n",
    "datetime.date.fromtimestamp(time.time())\n",
    "dtt = datetime.datetime.fromtimestamp(time.time())\n",
    "datetime.date(dtt.year, dtt.month, dtt.day)\n",
    "dt = datetime.date.today()\n",
    "\n",
    "# 날짜관련 문자열 반환하는 여러가지 방법\n",
    "dt.isoformat()\n",
    "dt.ctime()\n",
    "dt.strftime('%Y%m%d.txt')\n",
    "\n",
    "# date object를 다른 값/형식으로 변환\n",
    "dt.replace(2019,7,25) # 날짜 바꿀 때\n",
    "dt.timetuple() #time.struct_time 시퀸스 객체에 값을 할당\n",
    "dt.weekday()\n",
    "dt.isoweekday() # dt.weekday() + 1"
   ]
  },
  {
   "cell_type": "code",
   "execution_count": 4,
   "metadata": {},
   "outputs": [
    {
     "data": {
      "text/plain": [
       "datetime.time(12, 14, 37, 54563, tzinfo=datetime.timezone.utc)"
      ]
     },
     "execution_count": 4,
     "metadata": {},
     "output_type": "execute_result"
    }
   ],
   "source": [
    "# time object 반환방법\n",
    "t= datetime.time(dtt.hour, dtt.minute, dtt.second, dtt.microsecond)\n",
    "\n",
    "# 변환\n",
    "t.replace(12,14,37,54563,datetime.timezone.utc)"
   ]
  },
  {
   "cell_type": "code",
   "execution_count": 6,
   "metadata": {},
   "outputs": [
    {
     "data": {
      "text/plain": [
       "'2019-07-26T13:14:00.txt'"
      ]
     },
     "execution_count": 6,
     "metadata": {},
     "output_type": "execute_result"
    }
   ],
   "source": [
    "# datetime 반환방법\n",
    "datetime.datetime.now()\n",
    "datetime.datetime.today()\n",
    "datetime.datetime.utcnow()\n",
    "datetime.datetime.fromtimestamp(time.time())\n",
    "datetime.datetime.utcfromtimestamp(time.time())\n",
    "datetime.datetime.fromordinal(100)\n",
    "datetime.datetime.combine(dt,t)\n",
    "filename = '20190726_1314.txt'\n",
    "format = '%Y%m%d_%H%M.txt'\n",
    "dtt = datetime.datetime.strptime(filename,format)\n",
    "\n",
    "# 문자열 반환\n",
    "dtt.ctime() + '.txt'\n",
    "dtt.isoformat() + '.txt'\n",
    "dtt.strftime(format)"
   ]
  },
  {
   "cell_type": "code",
   "execution_count": 8,
   "metadata": {},
   "outputs": [
    {
     "data": {
      "text/plain": [
       "'2019-08-22T15:26:16.866296'"
      ]
     },
     "execution_count": 8,
     "metadata": {},
     "output_type": "execute_result"
    }
   ],
   "source": [
    "datetime.datetime.today().isoformat()"
   ]
  },
  {
   "cell_type": "markdown",
   "metadata": {},
   "source": [
    "[timestamp를 datetime으로 혹은 datetime을 timestamp로 변환하기](https://ourcstory.tistory.com/109)  "
   ]
  },
  {
   "cell_type": "code",
   "execution_count": 11,
   "metadata": {},
   "outputs": [
    {
     "data": {
      "text/plain": [
       "True"
      ]
     },
     "execution_count": 11,
     "metadata": {},
     "output_type": "execute_result"
    }
   ],
   "source": [
    "# timedelta 반환방법\n",
    "dtt_delta = datetime.timedelta(days= 100,weeks=1,hours=1,minutes=1,seconds=1,milliseconds=1,microseconds=1)\n",
    "dtt_plus = dtt + dtt_delta \n",
    "dtt_plus - dtt == dtt_delta # 비교연산가능"
   ]
  },
  {
   "cell_type": "markdown",
   "metadata": {},
   "source": [
    "# 파일 쓰기"
   ]
  },
  {
   "cell_type": "code",
   "execution_count": 15,
   "metadata": {},
   "outputs": [],
   "source": [
    "import os\n",
    "import datetime\n",
    "import time"
   ]
  },
  {
   "cell_type": "markdown",
   "metadata": {},
   "source": [
    "#### 경로생성하고 일일 리포트 작성"
   ]
  },
  {
   "cell_type": "code",
   "execution_count": 16,
   "metadata": {},
   "outputs": [],
   "source": [
    "format1 = '%Y%m%d_%H%M.txt'\n",
    "format2 = '%Y/%m'\n",
    "root_dir = '/home/usaywook/Documents/thordrive/practice'\n",
    "report_dir = os.path.join(root_dir,'reports')\n",
    "\n",
    "dtt = datetime.datetime.fromtimestamp(time.time())\n",
    "file_name = dtt.strftime(format1)\n",
    "ym = dtt.strftime(format2).split('/')\n",
    "\n",
    "if not os.path.exists(report_dir):\n",
    "    os.mkdir(report_dir)    \n",
    "file_dir = os.path.join(report_dir, ym[0])\n",
    "if not os.path.exists(file_dir):        \n",
    "    os.mkdir(file_dir)\n",
    "file_dir = os.path.join(file_dir, ym[1])\n",
    "if not os.path.exists(file_dir):\n",
    "    os.mkdir(file_dir)              \n",
    "file_path = os.path.join(file_dir, file_name)\n",
    "\n",
    "with open(file_path, 'w') as f:\n",
    "    f.write('test')"
   ]
  },
  {
   "cell_type": "markdown",
   "metadata": {},
   "source": [
    "#### 샘플 경로생성 및 리포트 만들기"
   ]
  },
  {
   "cell_type": "code",
   "execution_count": 17,
   "metadata": {},
   "outputs": [],
   "source": [
    "#함수화\n",
    "def mkfsample(dtt, context):\n",
    "    format1 = '%Y_%m_%d_%H%M.txt'\n",
    "    format2 = '%Y/%m'\n",
    "    root_dir = '/home/usaywook/Documents/thordrive/practice'\n",
    "    report_dir = os.path.join(root_dir,'reports')\n",
    "    file_name = dtt.strftime(format1)\n",
    "    ym = dtt.strftime(format2).split('/')\n",
    "\n",
    "    if not os.path.exists(report_dir):\n",
    "        os.mkdir(report_dir)    \n",
    "    file_dir = os.path.join(report_dir, ym[0])\n",
    "    if not os.path.exists(file_dir):        \n",
    "        os.mkdir(file_dir)\n",
    "    file_dir = os.path.join(file_dir, ym[1])\n",
    "    if not os.path.exists(file_dir):\n",
    "        os.mkdir(file_dir)              \n",
    "    file_path = os.path.join(file_dir, file_name)\n",
    "    \n",
    "    with open(file_path, 'w') as f:\n",
    "        f.write(context)"
   ]
  },
  {
   "cell_type": "code",
   "execution_count": 18,
   "metadata": {},
   "outputs": [],
   "source": [
    "dtt = datetime.datetime.fromtimestamp(time.time())\n",
    "dtt_delta = datetime.timedelta(days=15)\n",
    "dtts = []\n",
    "dtts.append(dtt)\n",
    "for i in range(30):\n",
    "    dtt += dtt_delta\n",
    "    dtts.append(dtt)\n",
    "\n",
    "for i,dtt in enumerate(dtts):\n",
    "    context = 'text{}'.format(i)\n",
    "    mkfsample(dtt,context)"
   ]
  },
  {
   "cell_type": "markdown",
   "metadata": {},
   "source": [
    "# 파일 읽기\n",
    "[os.walk](https://wikidocs.net/39) 하위 디렉터리 검색은 os.walk함수를 사용  \n",
    "[fnmatch](https://wikidocs.net/39) 일치하는 파일 리스트 찾기\n",
    "\n"
   ]
  },
  {
   "cell_type": "code",
   "execution_count": 19,
   "metadata": {},
   "outputs": [],
   "source": [
    "import fnmatch"
   ]
  },
  {
   "cell_type": "markdown",
   "metadata": {},
   "source": [
    "#### 일일 보고서 가져오기"
   ]
  },
  {
   "cell_type": "code",
   "execution_count": 20,
   "metadata": {},
   "outputs": [
    {
     "data": {
      "text/plain": [
       "'2019_08_25_*'"
      ]
     },
     "execution_count": 20,
     "metadata": {},
     "output_type": "execute_result"
    }
   ],
   "source": [
    "d = datetime.date(2019,8,25)\n",
    "format3 = '%Y_%m_%d_*'\n",
    "finding = d.strftime(format3)\n",
    "finding"
   ]
  },
  {
   "cell_type": "code",
   "execution_count": 136,
   "metadata": {},
   "outputs": [
    {
     "data": {
      "text/plain": [
       "'03'"
      ]
     },
     "execution_count": 136,
     "metadata": {},
     "output_type": "execute_result"
    }
   ],
   "source": [
    "#2자리 숫자 만들기\n",
    "month = '%02d'% 3\n",
    "month = '%02d'% int('3')\n",
    "month"
   ]
  },
  {
   "cell_type": "code",
   "execution_count": 151,
   "metadata": {},
   "outputs": [],
   "source": [
    "# 년 월 일를 찾기 위한 format 만들기\n",
    "def setformat(year = '', month = '', day = ''):\n",
    "    \"\"\"\n",
    "    This function is to make format for finding files\n",
    "    params: \n",
    "        string year, month, day\n",
    "        month is two charactor\n",
    "    \"\"\"         \n",
    "    fm = str()\n",
    "    if year is not '':\n",
    "        fm = year + '_'\n",
    "    if month is not '':\n",
    "        month = '%02d'% int(month)\n",
    "        fm += month + '_'\n",
    "    if day is not '':\n",
    "        day = '%02d'% int(day)\n",
    "        fm += day + '_'        \n",
    "    fm += '*'\n",
    "    return fm"
   ]
  },
  {
   "cell_type": "code",
   "execution_count": 156,
   "metadata": {},
   "outputs": [
    {
     "data": {
      "text/plain": [
       "'2019_08_*'"
      ]
     },
     "execution_count": 156,
     "metadata": {},
     "output_type": "execute_result"
    }
   ],
   "source": [
    "# d = datetime.date(2019,8,25)\n",
    "# format3 = '%Y_%m_%d_*'\n",
    "# finding = d.strftime(format3)\n",
    "\n",
    "# finding = setformat()\n",
    "# finding = setformat('2019')\n",
    "finding = setformat('2019','8')\n",
    "finding\n"
   ]
  },
  {
   "cell_type": "code",
   "execution_count": 76,
   "metadata": {},
   "outputs": [],
   "source": [
    "import numpy as np"
   ]
  },
  {
   "cell_type": "code",
   "execution_count": 158,
   "metadata": {
    "scrolled": true
   },
   "outputs": [
    {
     "data": {
      "text/plain": [
       "['/home/usaywook/Documents/thordrive/practice/reports/2019/08/2019_08_01_1538.txt',\n",
       " '/home/usaywook/Documents/thordrive/practice/reports/2019/08/2019_08_16_1538.txt',\n",
       " '/home/usaywook/Documents/thordrive/practice/reports/2019/08/2019_08_31_1538.txt']"
      ]
     },
     "execution_count": 158,
     "metadata": {},
     "output_type": "execute_result"
    }
   ],
   "source": [
    "def filelist_temp(report_dir, year='', month='', day=''):    \n",
    "    file_list = []\n",
    "    finding = setformat(year, month, day)\n",
    "    for (path, dir, files) in os.walk(report_dir):\n",
    "    #     print('path : {}, dir : {}, files : {}'.format(path,dir,files))\n",
    "        for filename in files:\n",
    "            ext = os.path.splitext(filename)[-1]\n",
    "            name = os.path.splitext(filename)[0]\n",
    "            if ext == '.txt':\n",
    "                seq = name.split('_')\n",
    "                if fnmatch.fnmatch(name, finding):\n",
    "                    file_dir = os.path.join(path, filename)\n",
    "                    file_list.append(file_dir)\n",
    "\n",
    "    # file list는 timestamp순으로 index가 붙어 있기 때문에 날짜 순으로 정렬할 필요가 있다.\n",
    "    file_list = sorted(file_list, key=str.lower)\n",
    "    return file_list\n",
    "\n",
    "filelist_temp(report_dir,'2019','08')"
   ]
  },
  {
   "cell_type": "code",
   "execution_count": 143,
   "metadata": {},
   "outputs": [
    {
     "data": {
      "text/plain": [
       "10"
      ]
     },
     "execution_count": 143,
     "metadata": {},
     "output_type": "execute_result"
    }
   ],
   "source": [
    "quater = 4\n",
    "(quater-1)*3+1"
   ]
  },
  {
   "cell_type": "code",
   "execution_count": 194,
   "metadata": {},
   "outputs": [
    {
     "data": {
      "text/plain": [
       "array(['/home/usaywook/Documents/thordrive/practice/reports/2020/06/2020_06_11_1538.txt',\n",
       "       '/home/usaywook/Documents/thordrive/practice/reports/2020/06/2020_06_26_1538.txt',\n",
       "       '/home/usaywook/Documents/thordrive/practice/reports/2020/07/2020_07_11_1538.txt',\n",
       "       '/home/usaywook/Documents/thordrive/practice/reports/2020/07/2020_07_26_1538.txt',\n",
       "       '/home/usaywook/Documents/thordrive/practice/reports/2020/08/2020_08_10_1538.txt',\n",
       "       '/home/usaywook/Documents/thordrive/practice/reports/2020/08/2020_08_25_1538.txt'],\n",
       "      dtype='<U79')"
      ]
     },
     "execution_count": 194,
     "metadata": {},
     "output_type": "execute_result"
    }
   ],
   "source": [
    "def filelist(report_dir, year='', month='', day='', quater=''):    \n",
    "    \n",
    "    \n",
    "    if quater is '':\n",
    "        filelist = filelist_temp(report_dir, year, month,day)\n",
    "    else:\n",
    "        quater = int(quater)\n",
    "        if quater > 4 or quater < 1:\n",
    "            print(\"Quater is Error\")\n",
    "\n",
    "        filelist = np.array([])    \n",
    "        for i in range(3):\n",
    "            temp = filelist_temp(report_dir, year, (quater-1)*3+i)\n",
    "            filelist = np.append(filelist, temp, axis=0)        \n",
    "        \n",
    "    return filelist\n",
    "\n",
    "file_list = filelist(report_dir,'2020',quater=3)\n",
    "file_list"
   ]
  },
  {
   "cell_type": "code",
   "execution_count": 186,
   "metadata": {},
   "outputs": [
    {
     "name": "stdout",
     "output_type": "stream",
     "text": [
      "text21\n",
      "text22\n",
      "text23\n",
      "text24\n",
      "text25\n",
      "text26\n"
     ]
    }
   ],
   "source": [
    "for file_path in file_list:    \n",
    "    with open(file_path, 'r') as file:\n",
    "        data = file.read()\n",
    "        print(data)"
   ]
  },
  {
   "cell_type": "markdown",
   "metadata": {},
   "source": [
    "#### 분기별보고서 가져오기"
   ]
  },
  {
   "cell_type": "code",
   "execution_count": null,
   "metadata": {},
   "outputs": [],
   "source": []
  },
  {
   "cell_type": "markdown",
   "metadata": {},
   "source": [
    "#### 중복되는 timestamp 행 제거"
   ]
  },
  {
   "cell_type": "code",
   "execution_count": 56,
   "metadata": {},
   "outputs": [],
   "source": [
    "def setformat(year, month = '', day = ''):\n",
    "        \"\"\"\n",
    "        This function is to make format for finding files\n",
    "        params:\n",
    "            string year, month, day\n",
    "            month is two charactor\n",
    "        \"\"\"\n",
    "        fm = 'data_' + year + '_'\n",
    "        if month is not None:\n",
    "            fm += month + '_'\n",
    "        if day is not None:\n",
    "            fm += day + '_'\n",
    "        fm += '*'\n",
    "        return fm"
   ]
  },
  {
   "cell_type": "code",
   "execution_count": 25,
   "metadata": {},
   "outputs": [
    {
     "data": {
      "text/plain": [
       "['/home/usaywook/Documents/thordrive/catkin_ws_for_thor/src/operator_logging/logs/data/data_2019_07_29_1101.csv']"
      ]
     },
     "execution_count": 25,
     "metadata": {},
     "output_type": "execute_result"
    }
   ],
   "source": [
    "def \n",
    "file_dir = '/home/usaywook/Documents/thordrive/catkin_ws_for_thor/src/operator_logging/logs'\n",
    "finding = setformat('2019')\n",
    "file_list = []\n",
    "file_dir = os.path.join(file_dir,'data')\n",
    "for (path, dir, files) in os.walk(file_dir):\n",
    "    for file_name in files:\n",
    "        ext = os.path.splitext(file_name)[-1]\n",
    "        name = os.path.splitext(file_name)[0]\n",
    "        if ext == '.csv':\n",
    "            if fnmatch.fnmatch(name, finding):\n",
    "                file_dir = os.path.join(path, file_name)\n",
    "                file_list.append(file_dir)\n",
    "file_list = sorted(file_list, key=str.lower)\n",
    "file_list"
   ]
  },
  {
   "cell_type": "code",
   "execution_count": 26,
   "metadata": {},
   "outputs": [
    {
     "name": "stdout",
     "output_type": "stream",
     "text": [
      "start loading csv file\n",
      "/home/usaywook/Documents/thordrive/catkin_ws_for_thor/src/operator_logging/logs/data/data_2019_07_29_1101.csv is loaded\n",
      "length of data is 301\n",
      "total length of data is 301\n",
      "total length of data is 301\n"
     ]
    },
    {
     "data": {
      "text/html": [
       "<div>\n",
       "<style scoped>\n",
       "    .dataframe tbody tr th:only-of-type {\n",
       "        vertical-align: middle;\n",
       "    }\n",
       "\n",
       "    .dataframe tbody tr th {\n",
       "        vertical-align: top;\n",
       "    }\n",
       "\n",
       "    .dataframe thead th {\n",
       "        text-align: right;\n",
       "    }\n",
       "</style>\n",
       "<table border=\"1\" class=\"dataframe\">\n",
       "  <thead>\n",
       "    <tr style=\"text-align: right;\">\n",
       "      <th></th>\n",
       "      <th>latitude</th>\n",
       "      <th>longitude</th>\n",
       "      <th>distance</th>\n",
       "    </tr>\n",
       "    <tr>\n",
       "      <th>timestamp</th>\n",
       "      <th></th>\n",
       "      <th></th>\n",
       "      <th></th>\n",
       "    </tr>\n",
       "  </thead>\n",
       "  <tbody>\n",
       "    <tr>\n",
       "      <th>1561596172</th>\n",
       "      <td>37.447848</td>\n",
       "      <td>-122.158515</td>\n",
       "      <td>0.000000</td>\n",
       "    </tr>\n",
       "    <tr>\n",
       "      <th>1561596173</th>\n",
       "      <td>37.447841</td>\n",
       "      <td>-122.158503</td>\n",
       "      <td>0.004444</td>\n",
       "    </tr>\n",
       "    <tr>\n",
       "      <th>1561596174</th>\n",
       "      <td>37.447816</td>\n",
       "      <td>-122.158463</td>\n",
       "      <td>0.008333</td>\n",
       "    </tr>\n",
       "    <tr>\n",
       "      <th>1561596175</th>\n",
       "      <td>37.447794</td>\n",
       "      <td>-122.158428</td>\n",
       "      <td>0.011944</td>\n",
       "    </tr>\n",
       "    <tr>\n",
       "      <th>1561596176</th>\n",
       "      <td>37.447776</td>\n",
       "      <td>-122.158398</td>\n",
       "      <td>0.015000</td>\n",
       "    </tr>\n",
       "  </tbody>\n",
       "</table>\n",
       "</div>"
      ],
      "text/plain": [
       "             latitude   longitude  distance\n",
       "timestamp                                  \n",
       "1561596172  37.447848 -122.158515  0.000000\n",
       "1561596173  37.447841 -122.158503  0.004444\n",
       "1561596174  37.447816 -122.158463  0.008333\n",
       "1561596175  37.447794 -122.158428  0.011944\n",
       "1561596176  37.447776 -122.158398  0.015000"
      ]
     },
     "execution_count": 26,
     "metadata": {},
     "output_type": "execute_result"
    }
   ],
   "source": [
    "import pandas as pd\n",
    "df = pd.DataFrame()\n",
    "for file_path in file_list:\n",
    "    print(\"start loading csv file\")\n",
    "    if os.path.exists(file_path):\n",
    "        tmp = pd.read_csv(file_path,index_col= 0)\n",
    "        print(\"{} is loaded\".format(file_path))\n",
    "        df = df.append(tmp)\n",
    "        df.index.name = 'timestamp'\n",
    "        print(\"length of data is {}\".format(len(tmp)))\n",
    "    else:\n",
    "        print(\"there is not {}\".format(file_path))\n",
    "print(\"total length of data is {}\".format(len(df)))        \n",
    "df = df.loc[[not x for x in df.index.duplicated(keep='first')]]\n",
    "print(\"total length of data is {}\".format(len(df)))        \n",
    "df.head()"
   ]
  },
  {
   "cell_type": "markdown",
   "metadata": {},
   "source": [
    "# ini 파일을 읽어보자\n",
    "configparser라는 모듈을 사용하면 된다.  \n",
    "[configparer](https://kishstats.com/python/2018/03/07/python-config-parser.html?source=post_page---------------------------)  \n",
    "[configparser참조1](https://medium.com/@onlytojay/%ED%8C%8C%EC%9D%B4%EC%8D%AC-%EC%BD%98%ED%94%BC%EA%B7%B8-%ED%8C%8C%EC%84%9C-configparser-7cfb65b1a5ac)  \n",
    "[configparser참조2](https://ppiazi.tistory.com/entry/ini-%ED%8C%8C%EC%9D%BC-%EC%B2%98%EB%A6%AC)"
   ]
  },
  {
   "cell_type": "code",
   "execution_count": 27,
   "metadata": {},
   "outputs": [],
   "source": [
    "from configparser import ConfigParser"
   ]
  },
  {
   "cell_type": "markdown",
   "metadata": {},
   "source": [
    "#### write config file"
   ]
  },
  {
   "cell_type": "code",
   "execution_count": 68,
   "metadata": {},
   "outputs": [],
   "source": [
    "config = ConfigParser()\n",
    "\n",
    "config['settings'] = {\n",
    "    'debug': 'on',\n",
    "    'secret_key': '1360',\n",
    "    'log_path': './logs',\n",
    "    'version': '3',\n",
    "    }\n",
    "config['db'] = {\n",
    "    'db_name': 'myapp_dev',\n",
    "    'db_host': 'localhost',\n",
    "    'db_port': '8889'\n",
    "} \n",
    "config['files'] = {\n",
    "    'use_file': 'false',\n",
    "    'image_path': '${settings:log_path}/images/python${settings:version}'\n",
    "}\n",
    "with open('./dev.ini', 'w') as f:\n",
    "    config.write(f)"
   ]
  },
  {
   "cell_type": "code",
   "execution_count": 78,
   "metadata": {},
   "outputs": [],
   "source": [
    "config = ConfigParser()\n",
    "config['settings'] = {\n",
    "    'online': 'on',\n",
    "    'module_path': '/home/usaywook/Documents/thordrive/catkin_ws_for_thor/src/operator_logging',\n",
    "    'version': '1_0'\n",
    "}\n",
    "config['files'] = {\n",
    "    'writecsv': 'off',\n",
    "    'drawmap': 'off',\n",
    "    'drawchart': 'off',\n",
    "    'file_path': '${settings:module_path}/logs/version${settings:version}'    \n",
    "}\n",
    "config['range'] = {\n",
    "    'year': '2019',\n",
    "    'month': '',\n",
    "    'day': ''\n",
    "}\n",
    "with open('/home/usaywook/Documents/thordrive/catkin_ws_for_thor/src/operator_logging/config/config.ini', 'w') as f:\n",
    "    config.write(f)"
   ]
  },
  {
   "cell_type": "markdown",
   "metadata": {},
   "source": [
    "#### read config file"
   ]
  },
  {
   "cell_type": "code",
   "execution_count": 76,
   "metadata": {},
   "outputs": [
    {
     "data": {
      "text/plain": [
       "True"
      ]
     },
     "execution_count": 76,
     "metadata": {},
     "output_type": "execute_result"
    }
   ],
   "source": [
    "parser = ConfigParser(allow_no_value=True)\n",
    "parser.read('dev.ini')\n",
    "\n",
    "parser.sections() # ['settings', 'db', 'files']\n",
    "parser.get('settings','debug') # get value of debug options in setting sections\n",
    "parser.options('settings') # ['debug', 'secret_key', 'logpath']\n",
    "'db' in parser # check whether the 'db' section exists or not\n",
    "type(parser.getint('db','db_port')) # how to get inter value instead of string type\n",
    "type(parser.getboolean('settings','debug')) # how to get boolean value instead of string type                                                                                    \n",
    "parser.getboolean('settings','debug')   # True value includes 1, yes, true, on \n",
    "parser.getboolean('files','use_file')   # False value includes 0, no, false, off\n",
    "parser.get('settings','log_path')\n",
    "parser.get('files','image_path') \n",
    "parser.get('settings','year') is ''"
   ]
  },
  {
   "cell_type": "markdown",
   "metadata": {},
   "source": [
    "#### Using String Interpolation"
   ]
  },
  {
   "cell_type": "code",
   "execution_count": 39,
   "metadata": {},
   "outputs": [],
   "source": [
    " from configparser import ExtendedInterpolation"
   ]
  },
  {
   "cell_type": "code",
   "execution_count": 40,
   "metadata": {},
   "outputs": [
    {
     "data": {
      "text/plain": [
       "'./logs/images/python3'"
      ]
     },
     "execution_count": 40,
     "metadata": {},
     "output_type": "execute_result"
    }
   ],
   "source": [
    "parser = ConfigParser(interpolation=ExtendedInterpolation())\n",
    "parser.read('dev.ini')\n",
    "parser.get('files','image_path') # change the path according to the version by Using String Interpolation"
   ]
  },
  {
   "cell_type": "markdown",
   "metadata": {},
   "source": [
    "#### dictionary 자료형을 통해 읽기편하게"
   ]
  },
  {
   "cell_type": "code",
   "execution_count": 36,
   "metadata": {},
   "outputs": [
    {
     "data": {
      "text/plain": [
       "{'settings': {'debug': 'on',\n",
       "  'secret_key': '1360',\n",
       "  'log_path': './logs',\n",
       "  'version': '3'},\n",
       " 'db': {'db_name': 'myapp_dev', 'db_host': 'localhost', 'db_port': '8889'},\n",
       " 'files': {'use_file': 'false', 'image_path': './logs/images/python3'}}"
      ]
     },
     "execution_count": 36,
     "metadata": {},
     "output_type": "execute_result"
    }
   ],
   "source": [
    "params = {}\n",
    "for section in parser.sections():\n",
    "    params[section] = {}\n",
    "    for option in parser.options(section):\n",
    "        params[section][option] = parser.get(section, option)\n",
    "params        "
   ]
  },
  {
   "cell_type": "code",
   "execution_count": 87,
   "metadata": {},
   "outputs": [],
   "source": [
    "from configparser import ConfigParser, ExtendedInterpolation"
   ]
  },
  {
   "cell_type": "code",
   "execution_count": 90,
   "metadata": {},
   "outputs": [
    {
     "data": {
      "text/plain": [
       "['/home/usaywook/Documents/thordrive/catkin_ws_for_thor/src/operator_logging/config/config.ini']"
      ]
     },
     "execution_count": 90,
     "metadata": {},
     "output_type": "execute_result"
    }
   ],
   "source": [
    "parser = ConfigParser(allow_no_value=True, interpolation=ExtendedInterpolation())\n",
    "parser.read('/home/usaywook/Documents/thordrive/catkin_ws_for_thor/src/operator_logging/config/config.ini')"
   ]
  }
 ],
 "metadata": {
  "kernelspec": {
   "display_name": "Python 3",
   "language": "python",
   "name": "python3"
  },
  "language_info": {
   "codemirror_mode": {
    "name": "ipython",
    "version": 3
   },
   "file_extension": ".py",
   "mimetype": "text/x-python",
   "name": "python",
   "nbconvert_exporter": "python",
   "pygments_lexer": "ipython3",
   "version": "3.6.8"
  }
 },
 "nbformat": 4,
 "nbformat_minor": 2
}
